{
 "cells": [
  {
   "cell_type": "code",
   "execution_count": 8,
   "id": "57a9bcac-b6aa-4e90-8c05-64248ffa164b",
   "metadata": {},
   "outputs": [],
   "source": [
    "import pandas as pd\n",
    "import matplotlib.pyplot as plt\n"
   ]
  },
  {
   "cell_type": "code",
   "execution_count": 6,
   "id": "132d6562-d25a-4613-8fb6-8110f7579389",
   "metadata": {},
   "outputs": [],
   "source": [
    "df = pd.read_csv(\"share-of-individuals-using-the-internet.csv\")"
   ]
  },
  {
   "cell_type": "code",
   "execution_count": 15,
   "id": "5befd5cc-969a-4de5-a970-5dc0cce39888",
   "metadata": {},
   "outputs": [],
   "source": [
    "df.rename(columns={'Entity': 'Country', 'Code': 'Courntry_Code', 'Individuals using the Internet (% of population)': '% of Population Interntet Users'}, inplace=True)"
   ]
  },
  {
   "cell_type": "code",
   "execution_count": 16,
   "id": "6accd376-78a2-45f2-8a98-dbdfd9c8945c",
   "metadata": {},
   "outputs": [
    {
     "data": {
      "text/html": [
       "<div>\n",
       "<style scoped>\n",
       "    .dataframe tbody tr th:only-of-type {\n",
       "        vertical-align: middle;\n",
       "    }\n",
       "\n",
       "    .dataframe tbody tr th {\n",
       "        vertical-align: top;\n",
       "    }\n",
       "\n",
       "    .dataframe thead th {\n",
       "        text-align: right;\n",
       "    }\n",
       "</style>\n",
       "<table border=\"1\" class=\"dataframe\">\n",
       "  <thead>\n",
       "    <tr style=\"text-align: right;\">\n",
       "      <th></th>\n",
       "      <th>Country</th>\n",
       "      <th>Courntry_Code</th>\n",
       "      <th>Year</th>\n",
       "      <th>% of Population Interntet Users</th>\n",
       "    </tr>\n",
       "  </thead>\n",
       "  <tbody>\n",
       "    <tr>\n",
       "      <th>0</th>\n",
       "      <td>Afghanistan</td>\n",
       "      <td>AFG</td>\n",
       "      <td>1990</td>\n",
       "      <td>0.000000</td>\n",
       "    </tr>\n",
       "    <tr>\n",
       "      <th>1</th>\n",
       "      <td>Afghanistan</td>\n",
       "      <td>AFG</td>\n",
       "      <td>1991</td>\n",
       "      <td>0.000000</td>\n",
       "    </tr>\n",
       "    <tr>\n",
       "      <th>2</th>\n",
       "      <td>Afghanistan</td>\n",
       "      <td>AFG</td>\n",
       "      <td>1992</td>\n",
       "      <td>0.000000</td>\n",
       "    </tr>\n",
       "    <tr>\n",
       "      <th>3</th>\n",
       "      <td>Afghanistan</td>\n",
       "      <td>AFG</td>\n",
       "      <td>1993</td>\n",
       "      <td>0.000000</td>\n",
       "    </tr>\n",
       "    <tr>\n",
       "      <th>4</th>\n",
       "      <td>Afghanistan</td>\n",
       "      <td>AFG</td>\n",
       "      <td>1994</td>\n",
       "      <td>0.000000</td>\n",
       "    </tr>\n",
       "    <tr>\n",
       "      <th>...</th>\n",
       "      <td>...</td>\n",
       "      <td>...</td>\n",
       "      <td>...</td>\n",
       "      <td>...</td>\n",
       "    </tr>\n",
       "    <tr>\n",
       "      <th>6528</th>\n",
       "      <td>Zimbabwe</td>\n",
       "      <td>ZWE</td>\n",
       "      <td>2016</td>\n",
       "      <td>23.119989</td>\n",
       "    </tr>\n",
       "    <tr>\n",
       "      <th>6529</th>\n",
       "      <td>Zimbabwe</td>\n",
       "      <td>ZWE</td>\n",
       "      <td>2017</td>\n",
       "      <td>24.400000</td>\n",
       "    </tr>\n",
       "    <tr>\n",
       "      <th>6530</th>\n",
       "      <td>Zimbabwe</td>\n",
       "      <td>ZWE</td>\n",
       "      <td>2018</td>\n",
       "      <td>25.000000</td>\n",
       "    </tr>\n",
       "    <tr>\n",
       "      <th>6531</th>\n",
       "      <td>Zimbabwe</td>\n",
       "      <td>ZWE</td>\n",
       "      <td>2019</td>\n",
       "      <td>25.100000</td>\n",
       "    </tr>\n",
       "    <tr>\n",
       "      <th>6532</th>\n",
       "      <td>Zimbabwe</td>\n",
       "      <td>ZWE</td>\n",
       "      <td>2020</td>\n",
       "      <td>29.299999</td>\n",
       "    </tr>\n",
       "  </tbody>\n",
       "</table>\n",
       "<p>6533 rows × 4 columns</p>\n",
       "</div>"
      ],
      "text/plain": [
       "          Country Courntry_Code  Year  % of Population Interntet Users\n",
       "0     Afghanistan           AFG  1990                         0.000000\n",
       "1     Afghanistan           AFG  1991                         0.000000\n",
       "2     Afghanistan           AFG  1992                         0.000000\n",
       "3     Afghanistan           AFG  1993                         0.000000\n",
       "4     Afghanistan           AFG  1994                         0.000000\n",
       "...           ...           ...   ...                              ...\n",
       "6528     Zimbabwe           ZWE  2016                        23.119989\n",
       "6529     Zimbabwe           ZWE  2017                        24.400000\n",
       "6530     Zimbabwe           ZWE  2018                        25.000000\n",
       "6531     Zimbabwe           ZWE  2019                        25.100000\n",
       "6532     Zimbabwe           ZWE  2020                        29.299999\n",
       "\n",
       "[6533 rows x 4 columns]"
      ]
     },
     "execution_count": 16,
     "metadata": {},
     "output_type": "execute_result"
    }
   ],
   "source": [
    "df"
   ]
  },
  {
   "cell_type": "code",
   "execution_count": 20,
   "id": "1ee5f4a8-6057-4711-9fad-ebd96c30724e",
   "metadata": {},
   "outputs": [
    {
     "data": {
      "image/png": "[encoded data removed]",
      "text/plain": [
       "<Figure size 640x480 with 1 Axes>"
      ]
     },
     "metadata": {},
     "output_type": "display_data"
    }
   ],
   "source": [
    "# Plotting the line graph for each country\n",
    "countries = df['Country'].unique()\n",
    "#for country in countries:\n",
    "colors = [\"#313131\"]\n",
    "for country, color in zip(['United States'], colors):\n",
    "    df_country = df[df['Country'] == country]\n",
    "    plt.plot(df_country['Year'], df_country['% of Population Interntet Users'], marker='o', label=country, color=color)\n",
    "\n",
    "plt.xlabel('Year', fontname='Arial', fontsize=12)\n",
    "plt.ylabel('% of Population Interntet Users', fontname='Arial', fontsize=12)\n",
    "plt.title('Internet Usage over the years by country', fontname='Arial', fontsize=14, fontweight='bold')\n",
    "plt.legend(loc='upper left', frameon=False, fontsize=10)\n",
    "plt.grid(alpha=0.3)\n",
    "plt.xticks(fontname='Arial', fontsize=10)\n",
    "plt.yticks(fontname='Arial', fontsize=10)\n",
    "plt.gca().spines['top'].set_visible(False)\n",
    "plt.gca().spines['right'].set_visible(False)\n",
    "plt.gca().spines['left'].set_color(\"#9B9B9B\")\n",
    "plt.gca().spines['bottom'].set_color(\"#9B9B9B\")\n",
    "plt.gca().spines['left'].set_linewidth(0.5)\n",
    "plt.gca().spines['bottom'].set_linewidth(0.5)\n",
    "plt.gca().tick_params(color=\"#9B9B9B\")\n",
    "plt.gca().yaxis.label.set_color(\"#313131\")\n",
    "plt.gca().xaxis.label.set_color(\"#313131\")\n",
    "plt.tight_layout()\n",
    "plt.gcf().set_facecolor(\"#FFFFFF\")\n",
    "plt.show()\n"
   ]
  },
  {
   "cell_type": "code",
   "execution_count": null,
   "id": "2e416769-acc9-46a3-9dd2-4467a3abf33c",
   "metadata": {},
   "outputs": [],
   "source": []
  }
 ],
 "metadata": {
  "kernelspec": {
   "display_name": "Python 3 (ipykernel)",
   "language": "python",
   "name": "python3"
  },
  "language_info": {
   "codemirror_mode": {
    "name": "ipython",
    "version": 3
   },
   "file_extension": ".py",
   "mimetype": "text/x-python",
   "name": "python",
   "nbconvert_exporter": "python",
   "pygments_lexer": "ipython3",
   "version": "3.9.13"
  }
 },
 "nbformat": 4,
 "nbformat_minor": 5
}
